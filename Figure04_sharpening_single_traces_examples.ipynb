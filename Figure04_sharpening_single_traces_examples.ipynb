{
 "cells": [
  {
   "cell_type": "markdown",
   "metadata": {},
   "source": [
    "This notebook generate plots of single trace examples of sharpening experiments."
   ]
  },
  {
   "cell_type": "code",
   "execution_count": null,
   "metadata": {},
   "outputs": [],
   "source": [
    "import numpy as np\n",
    "import matplotlib.pyplot as plt\n",
    "import datajoint as dj\n",
    "import scipy.signal as signal\n",
    "import seaborn as sns\n",
    "import scipy.stats as stats\n",
    "import pandas as pd\n",
    "import matplotlib\n",
    "%matplotlib notebook\n",
    "matplotlib.rcParams['font.sans-serif'] = \"Arial\"\n",
    "matplotlib.rcParams['font.family'] = \"sans-serif\"\n",
    "matplotlib.rcParams['axes.spines.top'] = False\n",
    "matplotlib.rcParams['axes.spines.right'] = False\n",
    "matplotlib.rcParams['legend.frameon'] = False"
   ]
  },
  {
   "cell_type": "code",
   "execution_count": null,
   "metadata": {},
   "outputs": [],
   "source": [
    "dj.conn('at-database.ad.bcm.edu', 'shan')"
   ]
  },
  {
   "cell_type": "code",
   "execution_count": null,
   "metadata": {},
   "outputs": [],
   "source": [
    "examples_main = [\n",
    "    {'animal_id': 3019, 'slice_id': 2, 'cell_id': 7, 'trace_idx': 45},\n",
    "    {'animal_id': 3019, 'slice_id': 2, 'cell_id': 7, 'trace_idx': 3},\n",
    "    {'animal_id': 19049, 'slice_id': 1, 'cell_id': 1, 'trace_idx': 1},\n",
    "    {'animal_id': 19049, 'slice_id': 1, 'cell_id': 1, 'trace_idx': 2},\n",
    "    {'animal_id': 3019, 'slice_id': 3, 'cell_id': 2, 'trace_idx': 32},\n",
    "    {'animal_id': 3019, 'slice_id': 3, 'cell_id': 2, 'trace_idx': 5},\n",
    "    {'animal_id': 19049, 'slice_id': 1, 'cell_id': 8, 'trace_idx': 1},\n",
    "    {'animal_id': 19049, 'slice_id': 1, 'cell_id': 8, 'trace_idx': 2},\n",
    "    {'animal_id': 3109, 'slice_id': 2, 'cell_id': 4, 'trace_idx': 23},\n",
    "    {'animal_id': 3109, 'slice_id': 2, 'cell_id': 4, 'trace_idx': 5},\n",
    "    {'animal_id': 19049, 'slice_id': 1, 'cell_id': 2, 'trace_idx': 1},\n",
    "    {'animal_id': 19049, 'slice_id': 1, 'cell_id': 2, 'trace_idx': 2},\n",
    "]"
   ]
  },
  {
   "cell_type": "code",
   "execution_count": null,
   "metadata": {},
   "outputs": [],
   "source": [
    "examples_L23_V1 = [\n",
    "    {'animal_id': 2704, 'slice_id': 3, 'cell_id': 2, 'trace_idx': 23},\n",
    "    {'animal_id': 2704, 'slice_id': 3, 'cell_id': 2, 'trace_idx': 29},\n",
    "    {'animal_id': 2899, 'slice_id': 1, 'cell_id': 2, 'trace_idx': 25},\n",
    "    {'animal_id': 2899, 'slice_id': 1, 'cell_id': 2, 'trace_idx': 12},\n",
    "    {'animal_id': 3019, 'slice_id': 2, 'cell_id': 7, 'trace_idx': 35},\n",
    "    {'animal_id': 3019, 'slice_id': 2, 'cell_id': 7, 'trace_idx': 2}\n",
    "]"
   ]
  },
  {
   "cell_type": "code",
   "execution_count": null,
   "metadata": {},
   "outputs": [],
   "source": [
    "def trace_clean(ax, example_vec, idx):\n",
    "    query = example_vec[idx]\n",
    "    time, trace, led, led_stat, ephys, baseline = (slicepatch.Firing & query).fetch1(\n",
    "        'time', 'trace', 'led', 'led_stat', 'ephys', 'baseline')\n",
    "    time = np.squeeze(time)\n",
    "    trace = np.squeeze(trace)\n",
    "    ephys = np.squeeze(ephys)\n",
    "    trace_max = max(trace)\n",
    "    trace_min = min(trace)\n",
    "    unit = (trace_max - trace_min)/10\n",
    "    \n",
    "    if led_stat:\n",
    "        led_on = time[np.where(led==1)[1]]\n",
    "    else:\n",
    "        led = (slicepatch.Firing & example_vec[idx-1]).fetch1('led')\n",
    "        led_on = time[np.where(led==1)[1]]\n",
    "    \n",
    "    led_time_min = min(led_on)\n",
    "    led_time_max = max(led_on)\n",
    "\n",
    "    ephys_on = time[np.where(ephys==1)]\n",
    "    ephys_time_min = min(ephys_on)\n",
    "    ephys_time_max = max(ephys_on)\n",
    "\n",
    "    current_base = baseline - 3*unit\n",
    "    ephys_trace = current_base + ephys*unit\n",
    "    \n",
    "    if led_stat:\n",
    "        color = 'lightblue'\n",
    "    else:\n",
    "        color = 'lightgray'\n",
    "        \n",
    "    ax.fill_betweenx(y=[trace_min, trace_max], x1=led_time_min, x2=led_time_max, color=color)\n",
    "    ax.plot(time, trace, color='black', linewidth=1)\n",
    "    ax.plot(time, ephys_trace, color='black', linewidth=1)\n",
    "    ax.set_xlim([ephys_time_min-25, ephys_time_max +50])\n",
    "    ax.axis('off')\n",
    "    ax.text(ephys_time_min-50, current_base, 'I')\n",
    "    \n",
    "    if idx==0:\n",
    "        ax.text(np.mean([ephys_time_min, ephys_time_max])-50, current_base-1.5*unit, '300 ms')\n",
    "        ax.text(led_time_min-5, trace_max+0.5*unit, '20 ms')"
   ]
  },
  {
   "cell_type": "code",
   "execution_count": null,
   "metadata": {},
   "outputs": [],
   "source": [
    "fsize_label = 12\n",
    "pos = dict(left=0.15, top=0.8, bottom=0.08, right=0.9)\n",
    "fig, axs = plt.subplots(3, 4, figsize=[7.5, 3.5])\n",
    "\n",
    "for iax, ax in enumerate(axs.flatten()):\n",
    "    trace_clean(ax, examples_main, iax)\n",
    "\n",
    "fig.subplots_adjust(**pos)\n",
    "fig.text(0.28, 0.94, r'LM to V1', fontsize=fsize_label)\n",
    "fig.text(0.66, 0.94, r'vM1 to vS1', fontsize=fsize_label)\n",
    "fig.text(0.01, 0.95, 'A', fontsize=14)\n",
    "\n",
    "layer_label_left = 0.04\n",
    "fig.text(layer_label_left, 0.73, r'L2/3 cell', fontsize=fsize_label)\n",
    "fig.text(layer_label_left, 0.44, r'L4 cell', fontsize=fsize_label)\n",
    "fig.text(layer_label_left, 0.15, r'L5 cell', fontsize=fsize_label)\n",
    "fig.text(0.2, 0.85, 'LED on')\n",
    "fig.text(0.4, 0.85, 'LED off')\n",
    "fig.text(0.59, 0.85, 'LED on')\n",
    "fig.text(0.79, 0.85, 'LED off')\n"
   ]
  },
  {
   "cell_type": "markdown",
   "metadata": {},
   "source": [
    "# PSTH for individual cells"
   ]
  },
  {
   "cell_type": "code",
   "execution_count": null,
   "metadata": {},
   "outputs": [],
   "source": [
    "examples_L23_V1 = [\n",
    "    {'animal_id': 2704, 'slice_id': 3, 'cell_id': 2},\n",
    "    {'animal_id': 2899, 'slice_id': 1, 'cell_id': 2},\n",
    "    {'animal_id': 3138, 'slice_id': 1, 'cell_id': 7}\n",
    "]"
   ]
  },
  {
   "cell_type": "code",
   "execution_count": null,
   "metadata": {},
   "outputs": [],
   "source": [
    "def plot_psth_ind(ax, cells, idx):\n",
    "    \n",
    "    cell = cells[idx].copy()\n",
    "    if 'trace_idx' in cell.keys(): \n",
    "        cell.pop('trace_idx')\n",
    "    aligned_spk_times_on = (slicepatch.SpkTimes & cell & \n",
    "                            (slicepatch.Firing & 'led_stat=1')).fetch('aligned_spk_times')\n",
    "    aligned_spk_times_off = (slicepatch.SpkTimes & cell & \n",
    "                             (slicepatch.Firing & 'led_stat=0')).fetch('aligned_spk_times')\n",
    "    spk_times_on = np.squeeze(np.hstack(aligned_spk_times_on))\n",
    "    n_on = len(aligned_spk_times_on)\n",
    "    spk_times_off = np.squeeze(np.hstack(aligned_spk_times_off))\n",
    "    n_off = len(aligned_spk_times_off)\n",
    "    time_range = [-25, 81]\n",
    "    dt = 2\n",
    "    nbins = int((time_range[1]-time_range[0])/dt)\n",
    "    time = list(range(time_range[0], time_range[1], dt))\n",
    "    psth_on = np.divide(np.histogram(spk_times_on, range=time_range, bins=nbins)[0], n_on*dt*0.001)\n",
    "    psth_off = np.divide(np.histogram(spk_times_off, range=time_range, bins=nbins)[0], n_off*dt*0.001)\n",
    "    \n",
    "    ax.plot(time, psth_on, color='r', linewidth=1, label='LED on')\n",
    "    ax.plot(time, psth_off, color='black', linewidth=1, label='LED off')\n",
    "    ylim = ax.get_ylim()\n",
    "    ax.fill_between([0, 20], ylim[0], ylim[1], color='lightblue', label='LED range', zorder=1)\n",
    "    \n",
    "    if iax == 2:\n",
    "        ax.legend(loc='center left', bbox_to_anchor=(1, 0.5), fontsize=7, frameon=False)\n",
    "    \n",
    "    if iax == 8:\n",
    "        ax.set_xlabel('Time relative to light stim onset (ms)')\n",
    "    \n",
    "    if iax == 5:\n",
    "        ax.set_ylabel('Firing rate (spks/s)')"
   ]
  },
  {
   "cell_type": "code",
   "execution_count": null,
   "metadata": {},
   "outputs": [],
   "source": [
    "example = [{'animal_id': 19159, 'slice_id': 2, 'cell_id': 23}]\n",
    "f, ax = plt.subplots(1, 1, figsize=[5, 3])\n",
    "plot_psth_ind(ax, example, 0)"
   ]
  },
  {
   "cell_type": "code",
   "execution_count": null,
   "metadata": {},
   "outputs": [],
   "source": [
    "fsize_label = 12\n",
    "pos = dict(left=0.1, top=0.9, bottom=0.1, right=0.85)\n",
    "example_groups_V1 = [\n",
    "    [{'animal_id': 2704, 'slice_id': 3, 'cell_id': 2, 'trace_idx': 23},\n",
    "     {'animal_id': 2704, 'slice_id': 3, 'cell_id': 2, 'trace_idx': 29},\n",
    "     {'animal_id': 2899, 'slice_id': 1, 'cell_id': 2, 'trace_idx': 25},\n",
    "     {'animal_id': 2899, 'slice_id': 1, 'cell_id': 2, 'trace_idx': 12},\n",
    "     {'animal_id': 3138, 'slice_id': 1, 'cell_id': 7, 'trace_idx': 24},\n",
    "     {'animal_id': 3138, 'slice_id': 1, 'cell_id': 7, 'trace_idx': 5}],\n",
    "    [{'animal_id': 2899, 'slice_id': 2, 'cell_id': 3, 'trace_idx': 12},\n",
    "     {'animal_id': 2899, 'slice_id': 2, 'cell_id': 3, 'trace_idx': 1},\n",
    "     {'animal_id': 3138, 'slice_id': 2, 'cell_id': 3, 'trace_idx': 10},\n",
    "     {'animal_id': 3138, 'slice_id': 2, 'cell_id': 3, 'trace_idx': 2},\n",
    "     {'animal_id': 3288, 'slice_id': 2, 'cell_id': 3, 'trace_idx': 13},\n",
    "     {'animal_id': 3288, 'slice_id': 2, 'cell_id': 3, 'trace_idx': 5}],\n",
    "    [{'animal_id': 2704, 'slice_id': 3, 'cell_id': 6, 'trace_idx': 9},\n",
    "     {'animal_id': 2704, 'slice_id': 3, 'cell_id': 6, 'trace_idx': 8},\n",
    "     {'animal_id': 3019, 'slice_id': 3, 'cell_id': 6, 'trace_idx': 32},\n",
    "     {'animal_id': 3019, 'slice_id': 3, 'cell_id': 6, 'trace_idx': 5},\n",
    "     {'animal_id': 19467, 'slice_id': 1, 'cell_id': 6, 'trace_idx': 1},\n",
    "     {'animal_id': 19467, 'slice_id': 1, 'cell_id': 6, 'trace_idx': 3}]\n",
    "]\n",
    "example_groups_S1 = [\n",
    "    [{'animal_id': 19049, 'slice_id': 1, 'cell_id': 7, 'trace_idx': 5}, # L23\n",
    "     {'animal_id': 19049, 'slice_id': 1, 'cell_id': 7, 'trace_idx': 4},\n",
    "     {'animal_id': 19159, 'slice_id': 1, 'cell_id': 1, 'trace_idx': 5},\n",
    "     {'animal_id': 19159, 'slice_id': 1, 'cell_id': 1, 'trace_idx': 4},\n",
    "     {'animal_id': 19159, 'slice_id': 2, 'cell_id': 21, 'trace_idx': 3},\n",
    "     {'animal_id': 19159, 'slice_id': 2, 'cell_id': 21, 'trace_idx': 2}],\n",
    "    [{'animal_id': 19049, 'slice_id': 1, 'cell_id': 9, 'trace_idx': 5}, # L4\n",
    "     {'animal_id': 19049, 'slice_id': 1, 'cell_id': 9, 'trace_idx': 2},\n",
    "     {'animal_id': 19159, 'slice_id': 2, 'cell_id': 17, 'trace_idx': 1},\n",
    "     {'animal_id': 19159, 'slice_id': 2, 'cell_id': 17, 'trace_idx': 2},\n",
    "     {'animal_id': 19159, 'slice_id': 2, 'cell_id': 17, 'trace_idx': 1},\n",
    "     {'animal_id': 19159, 'slice_id': 2, 'cell_id': 19, 'trace_idx': 1},\n",
    "     {'animal_id': 19159, 'slice_id': 2, 'cell_id': 19, 'trace_idx': 2}], \n",
    "    [{'animal_id': 14789, 'slice_id': 1, 'cell_id': 7, 'trace_idx': 25}, # L5 # bursty\n",
    "     {'animal_id': 14789, 'slice_id': 1, 'cell_id': 7, 'trace_idx': 12},\n",
    "     {'animal_id': 14796, 'slice_id': 1, 'cell_id': 2, 'trace_idx': 20},\n",
    "     {'animal_id': 14796, 'slice_id': 1, 'cell_id': 2, 'trace_idx': 2},\n",
    "     {'animal_id': 19049, 'slice_id': 1, 'cell_id': 6, 'trace_idx': 3},\n",
    "     {'animal_id': 19049, 'slice_id': 1, 'cell_id': 6, 'trace_idx': 4}]\n",
    "]"
   ]
  },
  {
   "cell_type": "code",
   "execution_count": null,
   "metadata": {},
   "outputs": [],
   "source": [
    "labels = ['L2/3', 'L4', 'L5']\n",
    "panels = ['A', 'B', 'C']\n",
    "\n",
    "areas = ['V1', 'vS1']\n",
    "\n",
    "for area in areas:\n",
    "    if area == 'V1':\n",
    "        example_groups = example_groups_V1\n",
    "    else:\n",
    "        example_groups = example_groups_S1\n",
    "\n",
    "    for example_group, label, panel in zip(example_groups, labels, panels):\n",
    "        fig, axs = plt.subplots(3, 3, figsize=[9, 5])\n",
    "        for iax, ax in enumerate(axs.flatten()):\n",
    "            if np.mod(iax+1, 3):\n",
    "                trace_clean(ax, example_group, iax - int((iax+1)/3))\n",
    "            else:\n",
    "                plot_psth_ind(ax, example_group, iax - int((iax+1)/3))\n",
    "    \n",
    "        fig.tight_layout()\n",
    "        fig.subplots_adjust(**pos)\n",
    "        fig.text(0.04, 0.5, label + ' ' + area)\n",
    "        fig.text(0.01, 0.95, panel, fontsize=14)\n",
    "        fig.text(0.18, 0.93, 'LED on')\n",
    "        fig.text(0.45, 0.93, 'LED off')\n",
    "        \n",
    "        if label=='L2/3':\n",
    "            fig.savefig('L23_' + area + '_examples_supp.png', dpi=300)\n",
    "        else:\n",
    "            fig.savefig(label + '_' + area+ '_examples_supp.png', dpi=300)"
   ]
  },
  {
   "cell_type": "code",
   "execution_count": null,
   "metadata": {},
   "outputs": [],
   "source": [
    "fig.subplots_adjust(**pos)"
   ]
  },
  {
   "cell_type": "code",
   "execution_count": null,
   "metadata": {},
   "outputs": [],
   "source": [
    "example_group"
   ]
  },
  {
   "cell_type": "code",
   "execution_count": null,
   "metadata": {},
   "outputs": [],
   "source": [
    "trace = [{'animal_id': 19049, 'slice_id': 1, 'cell_id': 9, 'trace_idx': 5}]\n",
    "\n",
    "f, ax = plt.subplots(1,1, figsize=[5,3])\n",
    "trace_clean(ax, trace, 0)"
   ]
  },
  {
   "cell_type": "code",
   "execution_count": null,
   "metadata": {},
   "outputs": [],
   "source": []
  },
  {
   "cell_type": "code",
   "execution_count": null,
   "metadata": {},
   "outputs": [],
   "source": [
    "slicepatch.Firing & {'animal_id': 19049, 'slice_id': 1, 'cell_id': 9, 'trace_idx':2}"
   ]
  },
  {
   "cell_type": "code",
   "execution_count": null,
   "metadata": {},
   "outputs": [],
   "source": []
  }
 ],
 "metadata": {
  "kernelspec": {
   "display_name": "Python 3",
   "language": "python",
   "name": "python3"
  },
  "language_info": {
   "codemirror_mode": {
    "name": "ipython",
    "version": 3
   },
   "file_extension": ".py",
   "mimetype": "text/x-python",
   "name": "python",
   "nbconvert_exporter": "python",
   "pygments_lexer": "ipython3",
   "version": "3.8.8"
  }
 },
 "nbformat": 4,
 "nbformat_minor": 2
}
